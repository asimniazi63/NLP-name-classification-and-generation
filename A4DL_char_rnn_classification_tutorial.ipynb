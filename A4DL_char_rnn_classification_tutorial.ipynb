{
  "nbformat": 4,
  "nbformat_minor": 0,
  "metadata": {
    "kernelspec": {
      "display_name": "Python 3",
      "language": "python",
      "name": "python3"
    },
    "language_info": {
      "codemirror_mode": {
        "name": "ipython",
        "version": 3
      },
      "file_extension": ".py",
      "mimetype": "text/x-python",
      "name": "python",
      "nbconvert_exporter": "python",
      "pygments_lexer": "ipython3",
      "version": "3.5.2"
    },
    "colab": {
      "name": "A4DL_char_rnn_classification_tutorial.ipynb",
      "provenance": [],
      "collapsed_sections": [],
      "toc_visible": true
    },
    "accelerator": "GPU"
  },
  "cells": [
    {
      "cell_type": "code",
      "metadata": {
        "id": "h05vGqaQDOqR",
        "colab_type": "code",
        "colab": {}
      },
      "source": [
        "## Original data can be downloaded from here\n",
        "# !wget https://download.pytorch.org/tutorial/data.zip\n",
        "# !unzip data.zip"
      ],
      "execution_count": 0,
      "outputs": []
    },
    {
      "cell_type": "code",
      "metadata": {
        "id": "hFJ_QuFEzFmO",
        "colab_type": "code",
        "colab": {}
      },
      "source": [
        "#######################################\n",
        "####     Add new region      ##########\n",
        "#### Uploads Indian.txt file ##########\n",
        "## Find here at my github:   ##########\n",
        "## https://github.com/asimniazi63/NLP-name-classification-and-generation/blob/master/data/names/Indian.txt\n",
        "#######################################"
      ],
      "execution_count": 0,
      "outputs": []
    },
    {
      "cell_type": "code",
      "metadata": {
        "id": "5SptP2HizIHr",
        "colab_type": "code",
        "colab": {
          "base_uri": "https://localhost:8080/",
          "height": 121
        },
        "outputId": "d249a258-43ab-4b97-c509-d4cac576a571"
      },
      "source": [
        "!git clone https://github.com/asimniazi63/NLP-name-classification-and-generation.git"
      ],
      "execution_count": 14,
      "outputs": [
        {
          "output_type": "stream",
          "text": [
            "Cloning into 'NLP-name-classification-and-generation'...\n",
            "remote: Enumerating objects: 33, done.\u001b[K\n",
            "remote: Counting objects:   3% (1/33)\u001b[K\rremote: Counting objects:   6% (2/33)\u001b[K\rremote: Counting objects:   9% (3/33)\u001b[K\rremote: Counting objects:  12% (4/33)\u001b[K\rremote: Counting objects:  15% (5/33)\u001b[K\rremote: Counting objects:  18% (6/33)\u001b[K\rremote: Counting objects:  21% (7/33)\u001b[K\rremote: Counting objects:  24% (8/33)\u001b[K\rremote: Counting objects:  27% (9/33)\u001b[K\rremote: Counting objects:  30% (10/33)\u001b[K\rremote: Counting objects:  33% (11/33)\u001b[K\rremote: Counting objects:  36% (12/33)\u001b[K\rremote: Counting objects:  39% (13/33)\u001b[K\rremote: Counting objects:  42% (14/33)\u001b[K\rremote: Counting objects:  45% (15/33)\u001b[K\rremote: Counting objects:  48% (16/33)\u001b[K\rremote: Counting objects:  51% (17/33)\u001b[K\rremote: Counting objects:  54% (18/33)\u001b[K\rremote: Counting objects:  57% (19/33)\u001b[K\rremote: Counting objects:  60% (20/33)\u001b[K\rremote: Counting objects:  63% (21/33)\u001b[K\rremote: Counting objects:  66% (22/33)\u001b[K\rremote: Counting objects:  69% (23/33)\u001b[K\rremote: Counting objects:  72% (24/33)\u001b[K\rremote: Counting objects:  75% (25/33)\u001b[K\rremote: Counting objects:  78% (26/33)\u001b[K\rremote: Counting objects:  81% (27/33)\u001b[K\rremote: Counting objects:  84% (28/33)\u001b[K\rremote: Counting objects:  87% (29/33)\u001b[K\rremote: Counting objects:  90% (30/33)\u001b[K\rremote: Counting objects:  93% (31/33)\u001b[K\rremote: Counting objects:  96% (32/33)\u001b[K\rremote: Counting objects: 100% (33/33)\u001b[K\rremote: Counting objects: 100% (33/33), done.\u001b[K\n",
            "remote: Compressing objects:   3% (1/30)\u001b[K\rremote: Compressing objects:   6% (2/30)\u001b[K\rremote: Compressing objects:  10% (3/30)\u001b[K\rremote: Compressing objects:  13% (4/30)\u001b[K\rremote: Compressing objects:  16% (5/30)\u001b[K\rremote: Compressing objects:  20% (6/30)\u001b[K\rremote: Compressing objects:  23% (7/30)\u001b[K\rremote: Compressing objects:  26% (8/30)\u001b[K\rremote: Compressing objects:  30% (9/30)\u001b[K\rremote: Compressing objects:  33% (10/30)\u001b[K\rremote: Compressing objects:  36% (11/30)\u001b[K\rremote: Compressing objects:  40% (12/30)\u001b[K\rremote: Compressing objects:  43% (13/30)\u001b[K\rremote: Compressing objects:  46% (14/30)\u001b[K\rremote: Compressing objects:  50% (15/30)\u001b[K\rremote: Compressing objects:  53% (16/30)\u001b[K\rremote: Compressing objects:  56% (17/30)\u001b[K\rremote: Compressing objects:  60% (18/30)\u001b[K\rremote: Compressing objects:  63% (19/30)\u001b[K\rremote: Compressing objects:  66% (20/30)\u001b[K\rremote: Compressing objects:  70% (21/30)\u001b[K\rremote: Compressing objects:  73% (22/30)\u001b[K\rremote: Compressing objects:  76% (23/30)\u001b[K\rremote: Compressing objects:  80% (24/30)\u001b[K\rremote: Compressing objects:  83% (25/30)\u001b[K\rremote: Compressing objects:  86% (26/30)\u001b[K\rremote: Compressing objects:  90% (27/30)\u001b[K\rremote: Compressing objects:  93% (28/30)\u001b[K\rremote: Compressing objects:  96% (29/30)\u001b[K\rremote: Compressing objects: 100% (30/30)\u001b[K\rremote: Compressing objects: 100% (30/30), done.\u001b[K\n",
            "Unpacking objects:   3% (1/33)   \rUnpacking objects:   6% (2/33)   \rUnpacking objects:   9% (3/33)   \rUnpacking objects:  12% (4/33)   \rUnpacking objects:  15% (5/33)   \rUnpacking objects:  18% (6/33)   \rUnpacking objects:  21% (7/33)   \rUnpacking objects:  24% (8/33)   \rUnpacking objects:  27% (9/33)   \rUnpacking objects:  30% (10/33)   \rUnpacking objects:  33% (11/33)   \rUnpacking objects:  36% (12/33)   \rUnpacking objects:  39% (13/33)   \rUnpacking objects:  42% (14/33)   \rUnpacking objects:  45% (15/33)   \rUnpacking objects:  48% (16/33)   \rUnpacking objects:  51% (17/33)   \rUnpacking objects:  54% (18/33)   \rUnpacking objects:  57% (19/33)   \rUnpacking objects:  60% (20/33)   \rUnpacking objects:  63% (21/33)   \rUnpacking objects:  66% (22/33)   \rUnpacking objects:  69% (23/33)   \rUnpacking objects:  72% (24/33)   \rUnpacking objects:  75% (25/33)   \rUnpacking objects:  78% (26/33)   \rremote: Total 33 (delta 4), reused 31 (delta 2), pack-reused 0\u001b[K\n",
            "Unpacking objects:  81% (27/33)   \rUnpacking objects:  84% (28/33)   \rUnpacking objects:  87% (29/33)   \rUnpacking objects:  90% (30/33)   \rUnpacking objects:  93% (31/33)   \rUnpacking objects:  96% (32/33)   \rUnpacking objects: 100% (33/33)   \rUnpacking objects: 100% (33/33), done.\n"
          ],
          "name": "stdout"
        }
      ]
    },
    {
      "cell_type": "code",
      "metadata": {
        "id": "AmmB7rwsDMOh",
        "colab_type": "code",
        "colab": {}
      },
      "source": [
        "%matplotlib inline"
      ],
      "execution_count": 0,
      "outputs": []
    },
    {
      "cell_type": "markdown",
      "metadata": {
        "id": "10kIUEwJDMOn",
        "colab_type": "text"
      },
      "source": [
        "\n",
        "NLP From Scratch: Classifying Names with a Character-Level RNN\n",
        "**************************************************************\n",
        "**Author**: `Sean Robertson <https://github.com/spro/practical-pytorch>`_\n",
        "\n",
        "We will be building and training a basic character-level RNN to classify\n",
        "words. This tutorial, along with the following two, show how to do\n",
        "preprocess data for NLP modeling \"from scratch\", in particular not using\n",
        "many of the convenience functions of `torchtext`, so you can see how\n",
        "preprocessing for NLP modeling works at a low level.\n",
        "\n",
        "A character-level RNN reads words as a series of characters -\n",
        "outputting a prediction and \"hidden state\" at each step, feeding its\n",
        "previous hidden state into each next step. We take the final prediction\n",
        "to be the output, i.e. which class the word belongs to.\n",
        "\n",
        "Specifically, we'll train on a few thousand surnames from 18 languages\n",
        "of origin, and predict which language a name is from based on the\n",
        "spelling:\n",
        "\n",
        "::\n",
        "\n",
        "    $ python predict.py Hinton\n",
        "    (-0.47) Scottish\n",
        "    (-1.52) English\n",
        "    (-3.57) Irish\n",
        "\n",
        "    $ python predict.py Schmidhuber\n",
        "    (-0.19) German\n",
        "    (-2.48) Czech\n",
        "    (-2.68) Dutch\n",
        "\n",
        "\n",
        "**Recommended Reading:**\n",
        "\n",
        "I assume you have at least installed PyTorch, know Python, and\n",
        "understand Tensors:\n",
        "\n",
        "-  https://pytorch.org/ For installation instructions\n",
        "-  :doc:`/beginner/deep_learning_60min_blitz` to get started with PyTorch in general\n",
        "-  :doc:`/beginner/pytorch_with_examples` for a wide and deep overview\n",
        "-  :doc:`/beginner/former_torchies_tutorial` if you are former Lua Torch user\n",
        "\n",
        "It would also be useful to know about RNNs and how they work:\n",
        "\n",
        "-  `The Unreasonable Effectiveness of Recurrent Neural\n",
        "   Networks <https://karpathy.github.io/2015/05/21/rnn-effectiveness/>`__\n",
        "   shows a bunch of real life examples\n",
        "-  `Understanding LSTM\n",
        "   Networks <https://colah.github.io/posts/2015-08-Understanding-LSTMs/>`__\n",
        "   is about LSTMs specifically but also informative about RNNs in\n",
        "   general\n",
        "\n",
        "Preparing the Data\n",
        "==================\n",
        "\n",
        ".. Note::\n",
        "   Download the data from\n",
        "   `here <https://download.pytorch.org/tutorial/data.zip>`_\n",
        "   and extract it to the current directory.\n",
        "\n",
        "Included in the ``data/names`` directory are 18 text files named as\n",
        "\"[Language].txt\". Each file contains a bunch of names, one name per\n",
        "line, mostly romanized (but we still need to convert from Unicode to\n",
        "ASCII).\n",
        "\n",
        "We'll end up with a dictionary of lists of names per language,\n",
        "``{language: [names ...]}``. The generic variables \"category\" and \"line\"\n",
        "(for language and name in our case) are used for later extensibility.\n",
        "\n"
      ]
    },
    {
      "cell_type": "code",
      "metadata": {
        "id": "mDSH5JkFDMOo",
        "colab_type": "code",
        "outputId": "b90125db-c626-483b-dfd5-69b670ca02c9",
        "colab": {
          "base_uri": "https://localhost:8080/",
          "height": 34
        }
      },
      "source": [
        "from __future__ import unicode_literals, print_function, division\n",
        "from io import open\n",
        "import glob\n",
        "import os\n",
        "\n",
        "def findFiles(path): return glob.glob(path)\n",
        "\n",
        "#print(findFiles('data/names/*.txt'))\n",
        "\n",
        "import unicodedata\n",
        "import string\n",
        "\n",
        "all_letters = string.ascii_letters + \" .,;'-@\"\n",
        "n_letters = len(all_letters)\n",
        "\n",
        "# Turn a Unicode string to plain ASCII, thanks to https://stackoverflow.com/a/518232/2809427\n",
        "def unicodeToAscii(s):\n",
        "    return ''.join(\n",
        "        c for c in unicodedata.normalize('NFD', s)\n",
        "        if unicodedata.category(c) != 'Mn'\n",
        "        and c in all_letters\n",
        "    )\n",
        "\n",
        "print(unicodeToAscii('Ślusàrski'))\n",
        "\n",
        "# Build the category_lines dictionary, a list of names per language\n",
        "category_lines = {}\n",
        "all_categories = []\n",
        "\n",
        "# Read a file and split into lines\n",
        "def readLines(filename):\n",
        "    lines = open(filename, encoding='utf-8').read().strip().split('\\n')\n",
        "    return [unicodeToAscii(line) for line in lines]\n",
        "\n",
        "for filename in findFiles('NLP-name-classification-and-generation/data/names/*.txt'):\n",
        "    category = os.path.splitext(os.path.basename(filename))[0]\n",
        "    all_categories.append(category)\n",
        "    lines = readLines(filename)\n",
        "    category_lines[category] = lines\n",
        "\n",
        "n_categories = len(all_categories)"
      ],
      "execution_count": 16,
      "outputs": [
        {
          "output_type": "stream",
          "text": [
            "Slusarski\n"
          ],
          "name": "stdout"
        }
      ]
    },
    {
      "cell_type": "code",
      "metadata": {
        "id": "I5H9qOBbzj8u",
        "colab_type": "code",
        "colab": {
          "base_uri": "https://localhost:8080/",
          "height": 34
        },
        "outputId": "f502990f-8213-493a-f8fe-f842c0728669"
      },
      "source": [
        "n_categories"
      ],
      "execution_count": 17,
      "outputs": [
        {
          "output_type": "execute_result",
          "data": {
            "text/plain": [
              "19"
            ]
          },
          "metadata": {
            "tags": []
          },
          "execution_count": 17
        }
      ]
    },
    {
      "cell_type": "markdown",
      "metadata": {
        "id": "opGli93mDMOv",
        "colab_type": "text"
      },
      "source": [
        "Now we have ``category_lines``, a dictionary mapping each category\n",
        "(language) to a list of lines (names). We also kept track of\n",
        "``all_categories`` (just a list of languages) and ``n_categories`` for\n",
        "later reference.\n",
        "\n",
        "\n"
      ]
    },
    {
      "cell_type": "code",
      "metadata": {
        "id": "gNpZ0cCoDMOw",
        "colab_type": "code",
        "outputId": "70b41be4-9d52-46ef-e7eb-34aa609cbc1c",
        "colab": {
          "base_uri": "https://localhost:8080/",
          "height": 363
        }
      },
      "source": [
        "print(len(category_lines['Indian']), n_categories)\n",
        "for cat in all_categories:\n",
        "    print(cat, ':', len(category_lines[cat]), category_lines[cat][:5])"
      ],
      "execution_count": 18,
      "outputs": [
        {
          "output_type": "stream",
          "text": [
            "29048 19\n",
            "Indian : 29048 ['Barjraj', 'Ramdin', 'Sharat', 'Birender', 'Amit']\n",
            "Arabic : 2000 ['Khoury', 'Nahas', 'Daher', 'Gerges', 'Nazari']\n",
            "Russian : 9408 ['Ababko', 'Abaev', 'Abagyan', 'Abaidulin', 'Abaidullin']\n",
            "German : 724 ['Abbing', 'Abel', 'Abeln', 'Abt', 'Achilles']\n",
            "Vietnamese : 73 ['Nguyen', 'Tron', 'Le', 'Pham', 'Huynh']\n",
            "Czech : 519 ['Abl', 'Adsit', 'Ajdrna', 'Alt', 'Antonowitsch']\n",
            "Portuguese : 74 ['Abreu', 'Albuquerque', 'Almeida', 'Alves', 'Araujo']\n",
            "Chinese : 268 ['Ang', 'Au-Yong', 'Bai', 'Ban', 'Bao']\n",
            "Dutch : 297 ['Aalsburg', 'Aalst', 'Aarle', 'Achteren', 'Achthoven']\n",
            "Spanish : 298 ['Abana', 'Abano', 'Abarca', 'Abaroa', 'Abascal']\n",
            "Italian : 709 ['Abandonato', 'Abatangelo', 'Abatantuono', 'Abate', 'Abategiovanni']\n",
            "Polish : 139 ['Adamczak', 'Adamczyk', 'Andrysiak', 'Auttenberg', 'Bartosz']\n",
            "Greek : 203 ['Adamidis', 'Adamou', 'Agelakos', 'Akrivopoulos', 'Alexandropoulos']\n",
            "Japanese : 991 ['Abe', 'Abukara', 'Adachi', 'Aida', 'Aihara']\n",
            "Irish : 232 ['Adam', 'Ahearn', 'Aodh', 'Aodha', 'Aonghuis']\n",
            "English : 3668 ['Abbas', 'Abbey', 'Abbott', 'Abdi', 'Abel']\n",
            "Korean : 94 ['Ahn', 'Baik', 'Bang', 'Byon', 'Cha']\n",
            "Scottish : 100 ['Smith', 'Brown', 'Wilson', 'Campbell', 'Stewart']\n",
            "French : 277 ['Abel', 'Abraham', 'Adam', 'Albert', 'Allard']\n"
          ],
          "name": "stdout"
        }
      ]
    },
    {
      "cell_type": "markdown",
      "metadata": {
        "id": "t1ltem41DMO0",
        "colab_type": "text"
      },
      "source": [
        "Turning Names into Tensors\n",
        "--------------------------\n",
        "\n",
        "Now that we have all the names organized, we need to turn them into\n",
        "Tensors to make any use of them.\n",
        "\n",
        "To represent a single letter, we use a \"one-hot vector\" of size\n",
        "``<1 x n_letters>``. A one-hot vector is filled with 0s except for a 1\n",
        "at index of the current letter, e.g. ``\"b\" = <0 1 0 0 0 ...>``.\n",
        "\n",
        "To make a word we join a bunch of those into a 2D matrix\n",
        "``<line_length x 1 x n_letters>``.\n",
        "\n",
        "That extra 1 dimension is because PyTorch assumes everything is in\n",
        "batches - we're just using a batch size of 1 here.\n",
        "\n",
        "\n"
      ]
    },
    {
      "cell_type": "code",
      "metadata": {
        "id": "1UjZTnb8DMO1",
        "colab_type": "code",
        "outputId": "71078906-4f6a-4ede-d887-d5d587c351ac",
        "colab": {
          "base_uri": "https://localhost:8080/",
          "height": 104
        }
      },
      "source": [
        "import torch\n",
        "\n",
        "# Find letter index from all_letters, e.g. \"a\" = 0\n",
        "def letterToIndex(letter):\n",
        "    return all_letters.find(letter)\n",
        "\n",
        "# Just for demonstration, turn a letter into a <1 x n_letters> Tensor\n",
        "def letterToTensor(letter):\n",
        "    tensor = torch.zeros(1, n_letters)\n",
        "    tensor[0][letterToIndex(letter)] = 1\n",
        "    return tensor\n",
        "\n",
        "# Turn a line into a <line_length x 1 x n_letters>,\n",
        "# or an array of one-hot letter vectors\n",
        "def lineToTensor(line):\n",
        "    tensor = torch.zeros(len(line), 1, n_letters)\n",
        "    for li, letter in enumerate(line):\n",
        "        tensor[li][0][letterToIndex(letter)] = 1\n",
        "    return tensor\n",
        "\n",
        "print(letterToTensor('J'))\n",
        "\n",
        "print(lineToTensor('Jones').size())"
      ],
      "execution_count": 19,
      "outputs": [
        {
          "output_type": "stream",
          "text": [
            "tensor([[0., 0., 0., 0., 0., 0., 0., 0., 0., 0., 0., 0., 0., 0., 0., 0., 0., 0.,\n",
            "         0., 0., 0., 0., 0., 0., 0., 0., 0., 0., 0., 0., 0., 0., 0., 0., 0., 1.,\n",
            "         0., 0., 0., 0., 0., 0., 0., 0., 0., 0., 0., 0., 0., 0., 0., 0., 0., 0.,\n",
            "         0., 0., 0., 0., 0.]])\n",
            "torch.Size([5, 1, 59])\n"
          ],
          "name": "stdout"
        }
      ]
    },
    {
      "cell_type": "markdown",
      "metadata": {
        "id": "xTkeiggWDMO5",
        "colab_type": "text"
      },
      "source": [
        "Creating the Network\n",
        "====================\n",
        "\n",
        "Before autograd, creating a recurrent neural network in Torch involved\n",
        "cloning the parameters of a layer over several timesteps. The layers\n",
        "held hidden state and gradients which are now entirely handled by the\n",
        "graph itself. This means you can implement a RNN in a very \"pure\" way,\n",
        "as regular feed-forward layers.\n",
        "\n",
        "This RNN module (mostly copied from `the PyTorch for Torch users\n",
        "tutorial <https://pytorch.org/tutorials/beginner/former_torchies/\n",
        "nn_tutorial.html#example-2-recurrent-net>`__)\n",
        "is just 2 linear layers which operate on an input and hidden state, with\n",
        "a LogSoftmax layer after the output.\n",
        "\n",
        "![](rnn.png)\n"
      ]
    },
    {
      "cell_type": "code",
      "metadata": {
        "id": "QT02Mhh_DMO6",
        "colab_type": "code",
        "colab": {}
      },
      "source": [
        "import torch.nn as nn\n",
        "\n",
        "class RNN(nn.Module):\n",
        "    def __init__(self, input_size, hidden_size, output_size):\n",
        "        super(RNN, self).__init__()\n",
        "\n",
        "        self.hidden_size = hidden_size\n",
        "\n",
        "        self.i2h = nn.Linear(input_size + hidden_size, hidden_size)\n",
        "        self.i2o = nn.Linear(input_size + hidden_size, output_size)\n",
        "        self.softmax = nn.LogSoftmax(dim=1)\n",
        "\n",
        "    def forward(self, input, hidden):\n",
        "        combined = torch.cat((input, hidden), 1)\n",
        "        hidden = self.i2h(combined)\n",
        "        output = self.i2o(combined)\n",
        "        output = self.softmax(output)\n",
        "        return output, hidden\n",
        "\n",
        "    def initHidden(self):\n",
        "        return torch.zeros(1, self.hidden_size)\n",
        "\n",
        "n_hidden = 128\n",
        "rnn = RNN(n_letters, n_hidden, n_categories)"
      ],
      "execution_count": 0,
      "outputs": []
    },
    {
      "cell_type": "markdown",
      "metadata": {
        "id": "6Cy_eosJDMO9",
        "colab_type": "text"
      },
      "source": [
        "To run a step of this network we need to pass an input (in our case, the\n",
        "Tensor for the current letter) and a previous hidden state (which we\n",
        "initialize as zeros at first). We'll get back the output (probability of\n",
        "each language) and a next hidden state (which we keep for the next\n",
        "step).\n",
        "\n",
        "\n"
      ]
    },
    {
      "cell_type": "code",
      "metadata": {
        "id": "FNYjq8mvDMO-",
        "colab_type": "code",
        "colab": {}
      },
      "source": [
        "input = letterToTensor('A')\n",
        "hidden =torch.zeros(1, n_hidden)\n",
        "\n",
        "output, next_hidden = rnn(input, hidden)"
      ],
      "execution_count": 0,
      "outputs": []
    },
    {
      "cell_type": "markdown",
      "metadata": {
        "id": "Ba3LmgoxDMPC",
        "colab_type": "text"
      },
      "source": [
        "For the sake of efficiency we don't want to be creating a new Tensor for\n",
        "every step, so we will use ``lineToTensor`` instead of\n",
        "``letterToTensor`` and use slices. This could be further optimized by\n",
        "pre-computing batches of Tensors.\n",
        "\n",
        "\n"
      ]
    },
    {
      "cell_type": "code",
      "metadata": {
        "id": "FHhgAmVODMPE",
        "colab_type": "code",
        "outputId": "7d0d7a1d-b5c3-4bdc-8e87-69508f77e6a9",
        "colab": {
          "base_uri": "https://localhost:8080/",
          "height": 69
        }
      },
      "source": [
        "input = lineToTensor('Albert')\n",
        "hidden = torch.zeros(1, n_hidden)\n",
        "\n",
        "output, next_hidden = rnn(input[0], hidden)\n",
        "print(output)"
      ],
      "execution_count": 22,
      "outputs": [
        {
          "output_type": "stream",
          "text": [
            "tensor([[-2.9513, -2.9136, -2.9380, -2.9554, -2.9199, -3.0290, -2.9402, -2.8440,\n",
            "         -3.0046, -3.0077, -2.9540, -2.8924, -3.0108, -2.9449, -2.9506, -2.9718,\n",
            "         -2.9288, -2.8401, -2.9708]], grad_fn=<LogSoftmaxBackward>)\n"
          ],
          "name": "stdout"
        }
      ]
    },
    {
      "cell_type": "markdown",
      "metadata": {
        "id": "GsqZ4facDMPH",
        "colab_type": "text"
      },
      "source": [
        "As you can see the output is a ``<1 x n_categories>`` Tensor, where\n",
        "every item is the likelihood of that category (higher is more likely).\n",
        "\n",
        "\n"
      ]
    },
    {
      "cell_type": "markdown",
      "metadata": {
        "id": "d3sMO2WvDMPI",
        "colab_type": "text"
      },
      "source": [
        "Training\n",
        "========\n",
        "Preparing for Training\n",
        "----------------------\n",
        "\n",
        "Before going into training we should make a few helper functions. The\n",
        "first is to interpret the output of the network, which we know to be a\n",
        "likelihood of each category. We can use ``Tensor.topk`` to get the index\n",
        "of the greatest value:\n",
        "\n",
        "\n"
      ]
    },
    {
      "cell_type": "code",
      "metadata": {
        "id": "K1l3OOR4DMPJ",
        "colab_type": "code",
        "outputId": "2b81157f-21d0-4f66-aaef-acbbbc561f4d",
        "colab": {
          "base_uri": "https://localhost:8080/",
          "height": 34
        }
      },
      "source": [
        "def categoryFromOutput(output):\n",
        "    top_n, top_i = output.topk(1)\n",
        "    category_i = top_i[0].item()\n",
        "    return all_categories[category_i], category_i\n",
        "\n",
        "print(categoryFromOutput(output))"
      ],
      "execution_count": 23,
      "outputs": [
        {
          "output_type": "stream",
          "text": [
            "('Scottish', 17)\n"
          ],
          "name": "stdout"
        }
      ]
    },
    {
      "cell_type": "markdown",
      "metadata": {
        "id": "_XHYuGFXDMPO",
        "colab_type": "text"
      },
      "source": [
        "We will also want a quick way to get a training example (a name and its\n",
        "language):\n",
        "\n",
        "\n"
      ]
    },
    {
      "cell_type": "code",
      "metadata": {
        "id": "LVV8YYq7DMPP",
        "colab_type": "code",
        "outputId": "af60aa7d-91e2-4dc4-ea62-dc5f709a79a6",
        "colab": {
          "base_uri": "https://localhost:8080/",
          "height": 190
        }
      },
      "source": [
        "import random\n",
        "\n",
        "def randomChoice(l):\n",
        "    return l[random.randint(0, len(l) - 1)]\n",
        "\n",
        "def randomTrainingExample():\n",
        "    category = randomChoice(all_categories)\n",
        "    line = randomChoice(category_lines[category])\n",
        "    category_tensor = torch.tensor([all_categories.index(category)], dtype=torch.long)\n",
        "    line_tensor = lineToTensor(line)\n",
        "    return category, line, category_tensor, line_tensor\n",
        "\n",
        "for i in range(10):\n",
        "    category, line, category_tensor, line_tensor = randomTrainingExample()\n",
        "    print('category =', category, '/ line =', line, category_tensor.shape, line_tensor.shape)"
      ],
      "execution_count": 24,
      "outputs": [
        {
          "output_type": "stream",
          "text": [
            "category = German / line = Hofler torch.Size([1]) torch.Size([6, 1, 59])\n",
            "category = French / line = Desrochers torch.Size([1]) torch.Size([10, 1, 59])\n",
            "category = Arabic / line = Bazzi torch.Size([1]) torch.Size([5, 1, 59])\n",
            "category = Czech / line = Kouba torch.Size([1]) torch.Size([5, 1, 59])\n",
            "category = Japanese / line = Kimiyama torch.Size([1]) torch.Size([8, 1, 59])\n",
            "category = Scottish / line = Milne torch.Size([1]) torch.Size([5, 1, 59])\n",
            "category = Greek / line = Lolos torch.Size([1]) torch.Size([5, 1, 59])\n",
            "category = French / line = Martel torch.Size([1]) torch.Size([6, 1, 59])\n",
            "category = Indian / line = Kumari torch.Size([1]) torch.Size([6, 1, 59])\n",
            "category = Irish / line = Coghlan torch.Size([1]) torch.Size([7, 1, 59])\n"
          ],
          "name": "stdout"
        }
      ]
    },
    {
      "cell_type": "markdown",
      "metadata": {
        "id": "CMMqsqH5DMPS",
        "colab_type": "text"
      },
      "source": [
        "Training the Network\n",
        "--------------------\n",
        "\n",
        "Now all it takes to train this network is show it a bunch of examples,\n",
        "have it make guesses, and tell it if it's wrong.\n",
        "\n",
        "For the loss function ``nn.NLLLoss`` is appropriate, since the last\n",
        "layer of the RNN is ``nn.LogSoftmax``.\n",
        "\n",
        "\n"
      ]
    },
    {
      "cell_type": "code",
      "metadata": {
        "id": "VNMHk1cHDMPT",
        "colab_type": "code",
        "colab": {}
      },
      "source": [
        "criterion = nn.NLLLoss()"
      ],
      "execution_count": 0,
      "outputs": []
    },
    {
      "cell_type": "markdown",
      "metadata": {
        "id": "O3Rzb0T4DMPZ",
        "colab_type": "text"
      },
      "source": [
        "Each loop of training will:\n",
        "\n",
        "-  Create input and target tensors\n",
        "-  Create a zeroed initial hidden state\n",
        "-  Read each letter in and\n",
        "\n",
        "   -  Keep hidden state for next letter\n",
        "\n",
        "-  Compare final output to target\n",
        "-  Back-propagate\n",
        "-  Return the output and loss\n",
        "\n",
        "\n"
      ]
    },
    {
      "cell_type": "code",
      "metadata": {
        "id": "aMLw_uUIDMPZ",
        "colab_type": "code",
        "colab": {}
      },
      "source": [
        "learning_rate = 0.005 # If you set this too high, it might explode. If too low, it might not learn\n",
        "\n",
        "def train(category_tensor, line_tensor):\n",
        "    hidden = rnn.initHidden()\n",
        "\n",
        "    rnn.zero_grad()\n",
        "\n",
        "    for i in range(line_tensor.size()[0]):\n",
        "        output, hidden = rnn(line_tensor[i], hidden)\n",
        "\n",
        "    loss = criterion(output, category_tensor)\n",
        "    loss.backward()\n",
        "\n",
        "    # Add parameters' gradients to their values, multiplied by learning rate\n",
        "    for p in rnn.parameters():\n",
        "        p.data.add_(-learning_rate, p.grad.data)\n",
        "\n",
        "    return output, loss.item()"
      ],
      "execution_count": 0,
      "outputs": []
    },
    {
      "cell_type": "markdown",
      "metadata": {
        "id": "fC99UfMQDMPc",
        "colab_type": "text"
      },
      "source": [
        "Now we just have to run that with a bunch of examples. Since the\n",
        "``train`` function returns both the output and loss we can print its\n",
        "guesses and also keep track of loss for plotting. Since there are 1000s\n",
        "of examples we print only every ``print_every`` examples, and take an\n",
        "average of the loss.\n",
        "\n",
        "\n"
      ]
    },
    {
      "cell_type": "code",
      "metadata": {
        "id": "Cm27c7LhDMPd",
        "colab_type": "code",
        "outputId": "129e4f1e-a122-4f7a-af8e-6e4eda5787e4",
        "colab": {
          "base_uri": "https://localhost:8080/",
          "height": 1000
        }
      },
      "source": [
        "import time\n",
        "import math\n",
        "\n",
        "n_iters = 1000000\n",
        "print_every = 5000\n",
        "plot_every = 1000\n",
        "\n",
        "\n",
        "\n",
        "# Keep track of losses for plotting\n",
        "current_loss = 0\n",
        "all_losses = []\n",
        "\n",
        "def timeSince(since):\n",
        "    now = time.time()\n",
        "    s = now - since\n",
        "    m = math.floor(s / 60)\n",
        "    s -= m * 60\n",
        "    return '%dm %ds' % (m, s)\n",
        "\n",
        "start = time.time()\n",
        "\n",
        "for iter in range(1, n_iters + 1):\n",
        "    category, line, category_tensor, line_tensor = randomTrainingExample()\n",
        "    try:\n",
        "      output, loss = train(category_tensor, line_tensor)\n",
        "      current_loss += loss\n",
        "    except:\n",
        "      print(line) #ignore invalid lines\n",
        "      continue\n",
        "\n",
        "    # Print iter number, loss, name and guess\n",
        "    if iter % print_every == 0:\n",
        "        guess, guess_i = categoryFromOutput(output)\n",
        "        correct = '✓' if guess == category else '✗ (%s)' % category\n",
        "        print('%d %d%% (%s) %.4f %s / %s %s' % (iter, iter / n_iters * 100, timeSince(start), loss, line, guess, correct))\n",
        "\n",
        "    # Add current loss avg to list of losses\n",
        "    if iter % plot_every == 0:\n",
        "        all_losses.append(current_loss / plot_every)\n",
        "        current_loss = 0"
      ],
      "execution_count": 30,
      "outputs": [
        {
          "output_type": "stream",
          "text": [
            "5000 0% (0m 5s) 2.4276 Trampota / Spanish ✗ (Czech)\n",
            "10000 1% (0m 12s) 1.1482 Cai / Chinese ✓\n",
            "15000 1% (0m 17s) 0.0274 Zdunowski / Polish ✓\n",
            "20000 2% (0m 23s) 2.2209 Siegl / Polish ✗ (Czech)\n",
            "25000 2% (0m 29s) 1.5085 Harness / English ✓\n",
            "30000 3% (0m 35s) 1.6196 Victors / Greek ✗ (French)\n",
            "35000 3% (0m 41s) 0.3903 Mahurov / Russian ✓\n",
            "40000 4% (0m 47s) 1.2715 Albert / French ✓\n",
            "45000 4% (0m 53s) 0.2852 Byon / Korean ✓\n",
            "50000 5% (0m 59s) 0.6962 Patselas / Greek ✓\n",
            "55000 5% (1m 5s) 0.5621 Peng / Chinese ✓\n",
            "60000 6% (1m 11s) 1.2850 Reilly / Irish ✗ (English)\n",
            "65000 6% (1m 17s) 2.8444 Armistead / Arabic ✗ (French)\n",
            "\n",
            "70000 7% (1m 23s) 1.2255 Mendes / Dutch ✗ (Portuguese)\n",
            "75000 7% (1m 29s) 0.2708 Shimamura / Japanese ✓\n",
            "80000 8% (1m 35s) 0.1115 Kuipers / Dutch ✓\n",
            "85000 8% (1m 41s) 2.3555 Goldberg / Spanish ✗ (English)\n",
            "\n",
            "90000 9% (1m 47s) 0.2795 Won / Chinese ✓\n",
            "95000 9% (1m 53s) 2.4422 Vockins / Greek ✗ (English)\n",
            "100000 10% (1m 59s) 0.1395 Takahama / Japanese ✓\n",
            "105000 10% (2m 5s) 3.0368 Foss / Greek ✗ (French)\n",
            "110000 11% (2m 11s) 0.1227 Slazak / Polish ✓\n",
            "115000 11% (2m 17s) 2.6156 Lyon / Korean ✗ (French)\n",
            "\n",
            "120000 12% (2m 23s) 1.8149 Cowan / Irish ✗ (English)\n",
            "125000 12% (2m 29s) 6.2228 Agramunt / French ✗ (Spanish)\n",
            "130000 13% (2m 34s) 0.3457 Tse / Chinese ✓\n",
            "135000 13% (2m 40s) 1.7403 Granger / German ✗ (French)\n",
            "140000 14% (2m 47s) 3.5617 Mclaughlin / Irish ✗ (Scottish)\n",
            "145000 14% (2m 53s) 1.1325 Nannini / Indian ✗ (Italian)\n",
            "150000 15% (2m 59s) 1.3159 Tang / Vietnamese ✗ (Chinese)\n",
            "155000 15% (3m 5s) 0.3255 Rigatos / Greek ✓\n",
            "160000 16% (3m 11s) 2.5980 Kock / Czech ✗ (German)\n",
            "165000 16% (3m 17s) 0.0855 Bukowski / Polish ✓\n",
            "170000 17% (3m 23s) 1.2165 Bedford / English ✓\n",
            "175000 17% (3m 28s) 1.2731 Araullo / Spanish ✗ (Portuguese)\n",
            "180000 18% (3m 34s) 4.5813 Giugovaz / Spanish ✗ (Italian)\n",
            "185000 18% (3m 40s) 0.2575 Arrigucci / Italian ✓\n",
            "190000 19% (3m 46s) 0.9203 Kloeter / Dutch ✓\n",
            "195000 19% (3m 51s) 0.0845 Negri / Italian ✓\n",
            "200000 20% (3m 57s) 1.9587 Roijacker / German ✗ (Dutch)\n",
            "205000 20% (4m 3s) 0.3852 Tapia / Spanish ✓\n",
            "210000 21% (4m 9s) 0.0002 Yokokawa / Japanese ✓\n",
            "215000 21% (4m 15s) 0.3189 Freitas / Portuguese ✓\n",
            "220000 22% (4m 21s) 1.4244 Tong / Chinese ✗ (Vietnamese)\n",
            "225000 22% (4m 26s) 1.5435 Dubin / Russian ✓\n",
            "230000 23% (4m 32s) 0.5712 Psik / Czech ✓\n",
            "235000 23% (4m 38s) 0.5925 Bach / Vietnamese ✓\n",
            "240000 24% (4m 44s) 1.5566 Gottlieb / Arabic ✗ (German)\n",
            "245000 24% (4m 49s) 0.0230 Mayuzumi / Japanese ✓\n",
            "250000 25% (4m 55s) 0.1108 Sotiris / Greek ✓\n",
            "255000 25% (5m 0s) 0.0109 Antonopoulos / Greek ✓\n",
            "260000 26% (5m 7s) 5.9035 Marti / Italian ✗ (Spanish)\n",
            "265000 26% (5m 12s) 1.9948 Hahn / Irish ✗ (German)\n",
            "270000 27% (5m 18s) 1.0508 Chu / Korean ✗ (Vietnamese)\n",
            "275000 27% (5m 24s) 0.0728 Macghabhann / Irish ✓\n",
            "280000 28% (5m 29s) 1.2654 Guzovsky / Czech ✗ (Russian)\n",
            "285000 28% (5m 35s) 4.3136 Theohari / Japanese ✗ (Greek)\n",
            "290000 28% (5m 41s) 0.7906 Pak / Korean ✓\n",
            "295000 29% (5m 46s) 0.2026 Luc / Vietnamese ✓\n",
            "300000 30% (5m 52s) 1.3203 Phung / Chinese ✗ (Vietnamese)\n",
            "305000 30% (5m 57s) 2.0639 Yong / Korean ✗ (Chinese)\n",
            "310000 31% (6m 3s) 1.1540 Sumit / French ✗ (Indian)\n",
            "315000 31% (6m 8s) 1.0576 Reagan / Irish ✓\n",
            "320000 32% (6m 14s) 0.1451 Vinci / Italian ✓\n",
            "325000 32% (6m 19s) 0.1986 Dobulevich / Russian ✓\n",
            "330000 33% (6m 25s) 2.4028 David / French ✗ (English)\n",
            "335000 33% (6m 30s) 3.5616 Juzva / Czech ✗ (Russian)\n",
            "340000 34% (6m 36s) 0.3888 Sun / Korean ✓\n",
            "345000 34% (6m 42s) 0.4419 Vega / Spanish ✓\n",
            "350000 35% (6m 47s) 2.0152 Busto / Scottish ✗ (Spanish)\n",
            "355000 35% (6m 53s) 3.2998 Ogtrop / Scottish ✗ (Dutch)\n",
            "360000 36% (6m 59s) 0.1539 Vo / Vietnamese ✓\n",
            "365000 36% (7m 4s) 0.6140 Islam / English ✓\n",
            "370000 37% (7m 10s) 0.3162 Vinh / Vietnamese ✓\n",
            "375000 37% (7m 15s) 0.1117 Gladwell / English ✓\n",
            "380000 38% (7m 21s) 0.0153 Alymov / Russian ✓\n",
            "385000 38% (7m 26s) 3.9842 Seto / Portuguese ✗ (Chinese)\n",
            "390000 39% (7m 32s) 0.0196 Srpcikova / Czech ✓\n",
            "395000 39% (7m 38s) 1.0610 Costa / Portuguese ✓\n",
            "400000 40% (7m 43s) 0.5547 Fernandes / Portuguese ✓\n",
            "405000 40% (7m 49s) 0.1084 Tieu / Vietnamese ✓\n",
            "410000 41% (7m 54s) 0.4409 Shimuzu / Japanese ✓\n",
            "415000 41% (8m 0s) 0.4322 Yun / Korean ✓\n",
            "420000 42% (8m 5s) 0.5759 Schwartz / German ✓\n",
            "425000 42% (8m 11s) 2.1242 Niemec / Czech ✗ (Polish)\n",
            "430000 43% (8m 17s) 0.3800 Kalinko / Russian ✓\n",
            "435000 43% (8m 22s) 3.6139 Ferraro / Portuguese ✗ (Italian)\n",
            "440000 44% (8m 28s) 0.0167 Xue / Chinese ✓\n",
            "445000 44% (8m 33s) 1.2892 Vodden / Dutch ✗ (English)\n",
            "450000 45% (8m 39s) 0.5454 Giang / Vietnamese ✓\n",
            "455000 45% (8m 44s) 0.3731 Kajar / Indian ✓\n",
            "460000 46% (8m 50s) 1.4068 Albert / French ✗ (German)\n",
            "465000 46% (8m 55s) 0.8934 Bitar / Arabic ✓\n",
            "470000 47% (9m 0s) 0.2255 Sook / Korean ✓\n",
            "475000 47% (9m 6s) 0.7685 Jogin / Russian ✓\n",
            "480000 48% (9m 11s) 0.9709 Santana / Portuguese ✓\n",
            "485000 48% (9m 17s) 0.1516 Shim / Korean ✓\n",
            "490000 49% (9m 22s) 0.1961 Priya / Indian ✓\n",
            "495000 49% (9m 28s) 0.2498 Sotiris / Greek ✓\n",
            "500000 50% (9m 34s) 0.3247 Chekmarev / Russian ✓\n",
            "505000 50% (9m 39s) 0.0237 Zong / Chinese ✓\n",
            "510000 51% (9m 45s) 1.2560 Kelly / English ✗ (Scottish)\n",
            "515000 51% (9m 50s) 0.2800 Tso / Chinese ✓\n",
            "520000 52% (9m 55s) 3.5698 Roldan / Irish ✗ (Spanish)\n",
            "525000 52% (10m 1s) 0.2491 Dam / Vietnamese ✓\n",
            "530000 53% (10m 6s) 1.1062 Aherne / English ✓\n",
            "535000 53% (10m 12s) 0.4436 Plamondon / French ✓\n",
            "540000 54% (10m 18s) 0.5431 Pryinka / Indian ✓\n",
            "545000 54% (10m 23s) 2.4616 Caomh / Arabic ✗ (Irish)\n",
            "550000 55% (10m 29s) 0.2013 Machacek / Czech ✓\n",
            "555000 55% (10m 34s) 0.0225 Vedev / Russian ✓\n",
            "560000 56% (10m 40s) 0.0830 Sniegowski / Polish ✓\n",
            "565000 56% (10m 45s) 0.0248 Chrysanthopoulos / Greek ✓\n",
            "570000 56% (10m 50s) 3.7293 Vieth / Indian ✗ (German)\n",
            "575000 57% (10m 56s) 1.6063 Diaz / Vietnamese ✗ (Spanish)\n",
            "580000 57% (11m 1s) 0.8252 Cabello / Italian ✗ (Spanish)\n",
            "585000 58% (11m 7s) 0.4251 Vela / Spanish ✓\n",
            "590000 59% (11m 12s) 0.3469 Zha / Chinese ✓\n",
            "595000 59% (11m 18s) 2.6738 Costa / Portuguese ✗ (Italian)\n",
            "600000 60% (11m 23s) 0.3334 Arti / Indian ✓\n",
            "605000 60% (11m 29s) 0.2948 Rang / Chinese ✓\n",
            "610000 61% (11m 34s) 0.0436 Modyaev / Russian ✓\n",
            "615000 61% (11m 40s) 0.2895 Murchadh / Irish ✓\n",
            "620000 62% (11m 45s) 0.0109 Dinh / Vietnamese ✓\n",
            "625000 62% (11m 51s) 0.2655 Diep / Vietnamese ✓\n",
            "630000 63% (11m 56s) 0.4120 Choi / Korean ✓\n",
            "635000 63% (12m 2s) 0.4663 Matsumura / Japanese ✓\n",
            "640000 64% (12m 7s) 2.1160 Fraser / German ✗ (Scottish)\n",
            "645000 64% (12m 13s) 0.0831 Naoimhin / Irish ✓\n",
            "650000 65% (12m 19s) 3.1966 Peij / Indian ✗ (Dutch)\n",
            "655000 65% (12m 24s) 1.3163 Chu / Vietnamese ✗ (Korean)\n",
            "660000 66% (12m 30s) 0.3498 Walkden / English ✓\n",
            "665000 66% (12m 36s) 1.0614 Chu / Vietnamese ✓\n",
            "670000 67% (12m 41s) 0.5009 Huo / Chinese ✓\n",
            "675000 67% (12m 46s) 0.2270 Sowka / Polish ✓\n",
            "680000 68% (12m 52s) 1.0887 Lashma / Arabic ✗ (Indian)\n",
            "685000 68% (12m 58s) 0.8931 O'Hara / Japanese ✗ (Irish)\n",
            "690000 69% (13m 3s) 4.4215 Praveen / Dutch ✗ (Indian)\n",
            "695000 69% (13m 8s) 3.1083 Paisar / Arabic ✗ (Czech)\n",
            "700000 70% (13m 14s) 0.2857 Forakis / Greek ✓\n",
            "705000 70% (13m 19s) 3.1418 Mallika / Polish ✗ (Indian)\n",
            "710000 71% (13m 25s) 3.3058 Water / Arabic ✗ (English)\n",
            "715000 71% (13m 30s) 1.1650 Nanak / Indian ✓\n",
            "720000 72% (13m 36s) 2.1879 Merlo / Portuguese ✗ (Italian)\n",
            "725000 72% (13m 41s) 3.9549 Widerlechner / German ✗ (Czech)\n",
            "730000 73% (13m 46s) 0.6682 Andreyak / Russian ✓\n",
            "735000 73% (13m 52s) 0.0019 Moraitopoulos / Greek ✓\n",
            "740000 74% (13m 57s) 0.3951 Haliulin / Russian ✓\n",
            "745000 74% (14m 3s) 6.3623 Wykruta / Japanese ✗ (Czech)\n",
            "750000 75% (14m 8s) 0.2721 Patselas / Greek ✓\n",
            "755000 75% (14m 13s) 0.1215 Fukushima / Japanese ✓\n",
            "760000 76% (14m 19s) 0.6385 Lorentz / German ✓\n",
            "765000 76% (14m 24s) 0.3561 Petri / Italian ✓\n",
            "770000 77% (14m 29s) 2.1247 Villiger / German ✗ (English)\n",
            "775000 77% (14m 35s) 1.7860 Amir / German ✗ (Indian)\n",
            "780000 78% (14m 40s) 2.3955 Sachin / Irish ✗ (Indian)\n",
            "785000 78% (14m 46s) 2.6941 Rizzo / Portuguese ✗ (Italian)\n",
            "790000 79% (14m 51s) 0.6085 Smets / Dutch ✓\n",
            "795000 79% (14m 57s) 0.7847 St pierre / French ✓\n",
            "800000 80% (15m 2s) 0.1433 Anetakis / Greek ✓\n",
            "805000 80% (15m 7s) 0.6943 Dubhshlaine / Irish ✓\n",
            "810000 81% (15m 13s) 2.3685 Almasi / Italian ✗ (Arabic)\n",
            "815000 81% (15m 18s) 0.9214 Disha / Indian ✓\n",
            "820000 82% (15m 24s) 1.3810 Cha / Chinese ✗ (Korean)\n",
            "825000 82% (15m 30s) 0.9733 Chong / Korean ✓\n",
            "830000 83% (15m 35s) 1.3908 Koeman / Indian ✗ (Dutch)\n",
            "835000 83% (15m 40s) 0.6278 Matsuoka / Japanese ✓\n",
            "840000 84% (15m 46s) 4.5646 Albert / French ✗ (Spanish)\n",
            "845000 84% (15m 51s) 0.5392 Vavilin / Russian ✓\n",
            "850000 85% (15m 57s) 0.3910 Donovan / Irish ✓\n",
            "855000 85% (16m 2s) 2.2572 Garcon / Scottish ✗ (French)\n",
            "860000 86% (16m 7s) 4.0019 Burns / Dutch ✗ (Scottish)\n",
            "865000 86% (16m 13s) 1.7198 Samios / Portuguese ✗ (Greek)\n",
            "870000 87% (16m 18s) 0.0193 Kreskas / Greek ✓\n",
            "875000 87% (16m 24s) 1.3229 Bishara / Japanese ✗ (Arabic)\n",
            "880000 88% (16m 29s) 0.2450 Foerstner / German ✓\n",
            "885000 88% (16m 34s) 0.0067 De la cruz / Spanish ✓\n",
            "890000 89% (16m 40s) 1.3874 Finke / English ✗ (Czech)\n",
            "\n",
            "895000 89% (16m 45s) 0.9282 Tian / Vietnamese ✗ (Chinese)\n",
            "900000 90% (16m 50s) 4.3733 Simodines / Greek ✗ (Czech)\n",
            "905000 90% (16m 56s) 0.1048 Marszaek / Polish ✓\n",
            "910000 91% (17m 1s) 1.4505 Machado / Japanese ✗ (Portuguese)\n",
            "915000 91% (17m 6s) 0.1580 Lam / Vietnamese ✓\n",
            "920000 92% (17m 12s) 4.5530 D'cruz / Portuguese ✗ (Spanish)\n",
            "925000 92% (17m 17s) 2.7559 Bush / German ✗ (English)\n",
            "930000 93% (17m 23s) 0.0321 Yi / Korean ✓\n",
            "935000 93% (17m 28s) 0.2238 O'Hagan / Irish ✓\n",
            "940000 94% (17m 34s) 1.1462 Loh / Korean ✗ (Chinese)\n",
            "945000 94% (17m 39s) 0.5485 Stoppelbein / German ✓\n",
            "950000 95% (17m 45s) 2.8115 Colon / Scottish ✗ (Spanish)\n",
            "955000 95% (17m 50s) 2.1092 Basanti / Italian ✗ (Indian)\n",
            "960000 96% (17m 56s) 0.1958 Haruguchi / Japanese ✓\n",
            "965000 96% (18m 1s) 0.7991 Chin / Korean ✓\n",
            "970000 97% (18m 7s) 0.6617 Hodgkins / English ✓\n",
            "975000 97% (18m 12s) 0.0809 Luc / Vietnamese ✓\n",
            "980000 98% (18m 18s) 2.7153 Karuna / Japanese ✗ (Indian)\n",
            "985000 98% (18m 23s) 0.0790 Manju / Indian ✓\n",
            "990000 99% (18m 29s) 0.1283 Cnaimhin / Irish ✓\n",
            "995000 99% (18m 34s) 0.5742 Melo / Portuguese ✓\n",
            "1000000 100% (18m 40s) 0.1270 Tselios / Greek ✓\n"
          ],
          "name": "stdout"
        }
      ]
    },
    {
      "cell_type": "markdown",
      "metadata": {
        "id": "a-XGbBcBDMPh",
        "colab_type": "text"
      },
      "source": [
        "Plotting the Results\n",
        "--------------------\n",
        "\n",
        "Plotting the historical loss from ``all_losses`` shows the network\n",
        "learning:\n",
        "\n",
        "\n"
      ]
    },
    {
      "cell_type": "code",
      "metadata": {
        "id": "1hnjJTC2DMPi",
        "colab_type": "code",
        "outputId": "4a6e2625-f69f-40d6-ab4a-5a995eadb317",
        "colab": {
          "base_uri": "https://localhost:8080/",
          "height": 282
        }
      },
      "source": [
        "import matplotlib.pyplot as plt\n",
        "import matplotlib.ticker as ticker\n",
        "\n",
        "plt.figure()\n",
        "plt.plot(all_losses)"
      ],
      "execution_count": 31,
      "outputs": [
        {
          "output_type": "execute_result",
          "data": {
            "text/plain": [
              "[<matplotlib.lines.Line2D at 0x7f8f1a03b320>]"
            ]
          },
          "metadata": {
            "tags": []
          },
          "execution_count": 31
        },
        {
          "output_type": "display_data",
          "data": {
            "image/png": "[encoded data removed]",
            "text/plain": [
              "<Figure size 432x288 with 1 Axes>"
            ]
          },
          "metadata": {
            "tags": [],
            "needs_background": "light"
          }
        }
      ]
    },
    {
      "cell_type": "markdown",
      "metadata": {
        "id": "0-ySlRxgDMPm",
        "colab_type": "text"
      },
      "source": [
        "Evaluating the Results\n",
        "======================\n",
        "\n",
        "To see how well the network performs on different categories, we will\n",
        "create a confusion matrix, indicating for every actual language (rows)\n",
        "which language the network guesses (columns). To calculate the confusion\n",
        "matrix a bunch of samples are run through the network with\n",
        "``evaluate()``, which is the same as ``train()`` minus the backprop.\n",
        "\n",
        "\n"
      ]
    },
    {
      "cell_type": "code",
      "metadata": {
        "id": "gGQyli69DMPm",
        "colab_type": "code",
        "outputId": "acfbaab7-7ca2-4db1-d527-5f8bc30b38b6",
        "colab": {
          "base_uri": "https://localhost:8080/",
          "height": 320
        }
      },
      "source": [
        "# Keep track of correct guesses in a confusion matrix\n",
        "confusion = torch.zeros(n_categories, n_categories)\n",
        "n_confusion = 10000\n",
        "\n",
        "# Just return an output given a line\n",
        "def evaluate(line_tensor):\n",
        "    hidden = rnn.initHidden()\n",
        "\n",
        "    for i in range(line_tensor.size()[0]):\n",
        "        output, hidden = rnn(line_tensor[i], hidden)\n",
        "\n",
        "    return output\n",
        "\n",
        "# Go through a bunch of examples and record which are correctly guessed\n",
        "for i in range(n_confusion):\n",
        "    category, line, category_tensor, line_tensor = randomTrainingExample()\n",
        "    output = evaluate(line_tensor)\n",
        "    guess, guess_i = categoryFromOutput(output)\n",
        "    category_i = all_categories.index(category)\n",
        "    confusion[category_i][guess_i] += 1\n",
        "\n",
        "# Normalize by dividing every row by its sum\n",
        "for i in range(n_categories):\n",
        "    confusion[i] = confusion[i] / confusion[i].sum()\n",
        "\n",
        "# Set up plot\n",
        "fig = plt.figure()\n",
        "ax = fig.add_subplot(111)\n",
        "cax = ax.matshow(confusion.numpy())\n",
        "fig.colorbar(cax)\n",
        "\n",
        "# Set up axes\n",
        "ax.set_xticklabels([''] + all_categories, rotation=90)\n",
        "ax.set_yticklabels([''] + all_categories)\n",
        "\n",
        "# Force label at every tick\n",
        "ax.xaxis.set_major_locator(ticker.MultipleLocator(1))\n",
        "ax.yaxis.set_major_locator(ticker.MultipleLocator(1))\n",
        "\n",
        "# sphinx_gallery_thumbnail_number = 2\n",
        "plt.show()"
      ],
      "execution_count": 34,
      "outputs": [
        {
          "output_type": "display_data",
          "data": {
            "image/png": "[encoded data removed]",
            "text/plain": [
              "<Figure size 432x288 with 2 Axes>"
            ]
          },
          "metadata": {
            "tags": [],
            "needs_background": "light"
          }
        }
      ]
    },
    {
      "cell_type": "markdown",
      "metadata": {
        "id": "PmJ-3DDWDMPr",
        "colab_type": "text"
      },
      "source": [
        "You can pick out bright spots off the main axis that show which\n",
        "languages it guesses incorrectly, e.g. Chinese for Korean, and Spanish\n",
        "for Italian. It seems to do very well with Greek, and very poorly with\n",
        "English (perhaps because of overlap with other languages).\n",
        "\n",
        "\n"
      ]
    },
    {
      "cell_type": "markdown",
      "metadata": {
        "id": "Nf-tlrgzDMPu",
        "colab_type": "text"
      },
      "source": [
        "Running on User Input\n",
        "---------------------\n",
        "\n",
        "\n"
      ]
    },
    {
      "cell_type": "code",
      "metadata": {
        "id": "41FbFmiYDMPv",
        "colab_type": "code",
        "outputId": "fadf9546-44e9-47a2-a9c7-fda2bb0b8aea",
        "colab": {
          "base_uri": "https://localhost:8080/",
          "height": 536
        }
      },
      "source": [
        "def predict(input_line, n_predictions=3):\n",
        "    print('\\n> %s' % input_line)\n",
        "    with torch.no_grad():\n",
        "        output = evaluate(lineToTensor(input_line))\n",
        "\n",
        "        # Get top N categories\n",
        "        topv, topi = output.topk(n_predictions, 1, True)\n",
        "        predictions = []\n",
        "\n",
        "        for i in range(n_predictions):\n",
        "            value = topv[0][i].item()\n",
        "            category_index = topi[0][i].item()\n",
        "            print('(%.2f) %s' % (value, all_categories[category_index]))\n",
        "            predictions.append([value, all_categories[category_index]])\n",
        "\n",
        "predict('Amana')\n",
        "predict('Abdul')\n",
        "predict('Ahmad')\n",
        "predict('Chopra')\n",
        "predict('Rahul')\n",
        "predict('Ramdin')"
      ],
      "execution_count": 36,
      "outputs": [
        {
          "output_type": "stream",
          "text": [
            "\n",
            "> Amana\n",
            "(-1.23) Indian\n",
            "(-1.48) Japanese\n",
            "(-1.91) Spanish\n",
            "\n",
            "> Abdul\n",
            "(-0.69) Arabic\n",
            "(-1.98) Czech\n",
            "(-2.43) Indian\n",
            "\n",
            "> Ahmad\n",
            "(-0.16) Arabic\n",
            "(-2.25) Indian\n",
            "(-4.99) German\n",
            "\n",
            "> Chopra\n",
            "(-1.02) Indian\n",
            "(-1.64) Czech\n",
            "(-1.68) Spanish\n",
            "\n",
            "> Rahul\n",
            "(-1.10) Arabic\n",
            "(-1.34) Indian\n",
            "(-2.18) Irish\n",
            "\n",
            "> Ramdin\n",
            "(-0.71) Irish\n",
            "(-1.96) Russian\n",
            "(-2.19) Indian\n"
          ],
          "name": "stdout"
        }
      ]
    },
    {
      "cell_type": "markdown",
      "metadata": {
        "id": "aDkKsKfbDMPy",
        "colab_type": "text"
      },
      "source": [
        "The final versions of the scripts `in the Practical PyTorch\n",
        "repo <https://github.com/spro/practical-pytorch/tree/master/char-rnn-classification>`__\n",
        "split the above code into a few files:\n",
        "\n",
        "-  ``data.py`` (loads files)\n",
        "-  ``model.py`` (defines the RNN)\n",
        "-  ``train.py`` (runs training)\n",
        "-  ``predict.py`` (runs ``predict()`` with command line arguments)\n",
        "-  ``server.py`` (serve prediction as a JSON API with bottle.py)\n",
        "\n",
        "Run ``train.py`` to train and save the network.\n",
        "\n",
        "Run ``predict.py`` with a name to view predictions:\n",
        "\n",
        "::\n",
        "\n",
        "    $ python predict.py Hazaki\n",
        "    (-0.42) Japanese\n",
        "    (-1.39) Polish\n",
        "    (-3.51) Czech\n",
        "\n",
        "Run ``server.py`` and visit http://localhost:5533/Yourname to get JSON\n",
        "output of predictions.\n",
        "\n",
        "\n"
      ]
    },
    {
      "cell_type": "code",
      "metadata": {
        "id": "bmuD1Vfc8AP8",
        "colab_type": "code",
        "colab": {}
      },
      "source": [
        ""
      ],
      "execution_count": 0,
      "outputs": []
    }
  ]
}